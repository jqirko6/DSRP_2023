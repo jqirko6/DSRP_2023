{
  "nbformat": 4,
  "nbformat_minor": 0,
  "metadata": {
    "colab": {
      "provenance": [],
      "toc_visible": true,
      "include_colab_link": true
    },
    "kernelspec": {
      "name": "python3",
      "display_name": "Python 3"
    },
    "language_info": {
      "name": "python"
    }
  },
  "cells": [
    {
      "cell_type": "markdown",
      "metadata": {
        "id": "view-in-github",
        "colab_type": "text"
      },
      "source": [
        "<a href=\"https://colab.research.google.com/github/jqirko6/data-science/blob/main/Copy_of_TRAIN_YLC_Homework_7_STUDENT.ipynb\" target=\"_parent\"><img src=\"https://colab.research.google.com/assets/colab-badge.svg\" alt=\"Open In Colab\"/></a>"
      ]
    },
    {
      "cell_type": "markdown",
      "source": [
        "# Homework \\#7: Linear Regression Part I\n",
        "---\n",
        "\n",
        "In this homework, you will continue practicing your linear regression skills. There is also an optional part at the end to keep up with your KNN skills! This notebook is broken down into 3 parts as follows:\n",
        "\n",
        "**Part 1**: Ideal Study Time\n",
        "\n",
        "**Part 2**: Fish Market Prediction\n",
        "\n",
        "**[OPTIONAL] Part 3**: Classify Fish using KNN\n",
        "\n",
        "<br>\n",
        "\n",
        "**Cheat Sheets**:\n",
        "\n",
        "[Linear Regression with sklearn](https://docs.google.com/document/d/1fmIR5pvfxAFz_GGHun0dyE0CFWXe4_OWWeFRkZ1K13w/edit?usp=sharing)\n",
        "\n",
        "[KNN Classification with sklearn](https://docs.google.com/document/d/1RqB0neapANsdy3Mku-AGHTpgQUbm2ZDt5hq2z1sMWpo/edit?usp=sharing)\n",
        "\n",
        "---"
      ],
      "metadata": {
        "id": "mbZXQ3rA3NwL"
      }
    },
    {
      "cell_type": "markdown",
      "metadata": {
        "id": "7VJ0olpwwTvn"
      },
      "source": [
        "## **Part 0: Import sklearn**\n",
        "---\n",
        "\n",
        "**Run the code below before continuing.**"
      ]
    },
    {
      "cell_type": "code",
      "execution_count": null,
      "metadata": {
        "id": "I67Z7TAJwTvo"
      },
      "outputs": [],
      "source": [
        "import pandas as pd\n",
        "import numpy as np\n",
        "import matplotlib.pyplot as plt\n",
        "from sklearn import metrics\n",
        "from sklearn.model_selection import train_test_split"
      ]
    },
    {
      "cell_type": "markdown",
      "source": [
        "## **Part 1: Ideal Study Time**\n",
        "---\n",
        "\n",
        "The dataset below contains the scores each student in a class achieved on a test and how long they studied for. Your goal will be to **predict the score** a student will receive if they study for a certain amount of time."
      ],
      "metadata": {
        "id": "iyPkx_7Atz1J"
      }
    },
    {
      "cell_type": "markdown",
      "metadata": {
        "id": "TW76gvRGuEfF"
      },
      "source": [
        "### **Step #1: Load in data**\n",
        "---"
      ]
    },
    {
      "cell_type": "code",
      "execution_count": null,
      "metadata": {
        "id": "_6y9u7fauEfG",
        "colab": {
          "base_uri": "https://localhost:8080/",
          "height": 206
        },
        "outputId": "b32a50c8-7e60-4c87-8103-91603a678d24"
      },
      "outputs": [
        {
          "output_type": "execute_result",
          "data": {
            "text/plain": [
              "   Hours  Scores\n",
              "0    2.5      43\n",
              "1    5.1      69\n",
              "2    3.2      49\n",
              "3    8.5      97\n",
              "4    3.5      52"
            ],
            "text/html": [
              "\n",
              "  <div id=\"df-386d9443-94b6-40b2-8342-e14b441e1b78\">\n",
              "    <div class=\"colab-df-container\">\n",
              "      <div>\n",
              "<style scoped>\n",
              "    .dataframe tbody tr th:only-of-type {\n",
              "        vertical-align: middle;\n",
              "    }\n",
              "\n",
              "    .dataframe tbody tr th {\n",
              "        vertical-align: top;\n",
              "    }\n",
              "\n",
              "    .dataframe thead th {\n",
              "        text-align: right;\n",
              "    }\n",
              "</style>\n",
              "<table border=\"1\" class=\"dataframe\">\n",
              "  <thead>\n",
              "    <tr style=\"text-align: right;\">\n",
              "      <th></th>\n",
              "      <th>Hours</th>\n",
              "      <th>Scores</th>\n",
              "    </tr>\n",
              "  </thead>\n",
              "  <tbody>\n",
              "    <tr>\n",
              "      <th>0</th>\n",
              "      <td>2.5</td>\n",
              "      <td>43</td>\n",
              "    </tr>\n",
              "    <tr>\n",
              "      <th>1</th>\n",
              "      <td>5.1</td>\n",
              "      <td>69</td>\n",
              "    </tr>\n",
              "    <tr>\n",
              "      <th>2</th>\n",
              "      <td>3.2</td>\n",
              "      <td>49</td>\n",
              "    </tr>\n",
              "    <tr>\n",
              "      <th>3</th>\n",
              "      <td>8.5</td>\n",
              "      <td>97</td>\n",
              "    </tr>\n",
              "    <tr>\n",
              "      <th>4</th>\n",
              "      <td>3.5</td>\n",
              "      <td>52</td>\n",
              "    </tr>\n",
              "  </tbody>\n",
              "</table>\n",
              "</div>\n",
              "      <button class=\"colab-df-convert\" onclick=\"convertToInteractive('df-386d9443-94b6-40b2-8342-e14b441e1b78')\"\n",
              "              title=\"Convert this dataframe to an interactive table.\"\n",
              "              style=\"display:none;\">\n",
              "        \n",
              "  <svg xmlns=\"http://www.w3.org/2000/svg\" height=\"24px\"viewBox=\"0 0 24 24\"\n",
              "       width=\"24px\">\n",
              "    <path d=\"M0 0h24v24H0V0z\" fill=\"none\"/>\n",
              "    <path d=\"M18.56 5.44l.94 2.06.94-2.06 2.06-.94-2.06-.94-.94-2.06-.94 2.06-2.06.94zm-11 1L8.5 8.5l.94-2.06 2.06-.94-2.06-.94L8.5 2.5l-.94 2.06-2.06.94zm10 10l.94 2.06.94-2.06 2.06-.94-2.06-.94-.94-2.06-.94 2.06-2.06.94z\"/><path d=\"M17.41 7.96l-1.37-1.37c-.4-.4-.92-.59-1.43-.59-.52 0-1.04.2-1.43.59L10.3 9.45l-7.72 7.72c-.78.78-.78 2.05 0 2.83L4 21.41c.39.39.9.59 1.41.59.51 0 1.02-.2 1.41-.59l7.78-7.78 2.81-2.81c.8-.78.8-2.07 0-2.86zM5.41 20L4 18.59l7.72-7.72 1.47 1.35L5.41 20z\"/>\n",
              "  </svg>\n",
              "      </button>\n",
              "      \n",
              "  <style>\n",
              "    .colab-df-container {\n",
              "      display:flex;\n",
              "      flex-wrap:wrap;\n",
              "      gap: 12px;\n",
              "    }\n",
              "\n",
              "    .colab-df-convert {\n",
              "      background-color: #E8F0FE;\n",
              "      border: none;\n",
              "      border-radius: 50%;\n",
              "      cursor: pointer;\n",
              "      display: none;\n",
              "      fill: #1967D2;\n",
              "      height: 32px;\n",
              "      padding: 0 0 0 0;\n",
              "      width: 32px;\n",
              "    }\n",
              "\n",
              "    .colab-df-convert:hover {\n",
              "      background-color: #E2EBFA;\n",
              "      box-shadow: 0px 1px 2px rgba(60, 64, 67, 0.3), 0px 1px 3px 1px rgba(60, 64, 67, 0.15);\n",
              "      fill: #174EA6;\n",
              "    }\n",
              "\n",
              "    [theme=dark] .colab-df-convert {\n",
              "      background-color: #3B4455;\n",
              "      fill: #D2E3FC;\n",
              "    }\n",
              "\n",
              "    [theme=dark] .colab-df-convert:hover {\n",
              "      background-color: #434B5C;\n",
              "      box-shadow: 0px 1px 3px 1px rgba(0, 0, 0, 0.15);\n",
              "      filter: drop-shadow(0px 1px 2px rgba(0, 0, 0, 0.3));\n",
              "      fill: #FFFFFF;\n",
              "    }\n",
              "  </style>\n",
              "\n",
              "      <script>\n",
              "        const buttonEl =\n",
              "          document.querySelector('#df-386d9443-94b6-40b2-8342-e14b441e1b78 button.colab-df-convert');\n",
              "        buttonEl.style.display =\n",
              "          google.colab.kernel.accessAllowed ? 'block' : 'none';\n",
              "\n",
              "        async function convertToInteractive(key) {\n",
              "          const element = document.querySelector('#df-386d9443-94b6-40b2-8342-e14b441e1b78');\n",
              "          const dataTable =\n",
              "            await google.colab.kernel.invokeFunction('convertToInteractive',\n",
              "                                                     [key], {});\n",
              "          if (!dataTable) return;\n",
              "\n",
              "          const docLinkHtml = 'Like what you see? Visit the ' +\n",
              "            '<a target=\"_blank\" href=https://colab.research.google.com/notebooks/data_table.ipynb>data table notebook</a>'\n",
              "            + ' to learn more about interactive tables.';\n",
              "          element.innerHTML = '';\n",
              "          dataTable['output_type'] = 'display_data';\n",
              "          await google.colab.output.renderOutput(dataTable, element);\n",
              "          const docLink = document.createElement('div');\n",
              "          docLink.innerHTML = docLinkHtml;\n",
              "          element.appendChild(docLink);\n",
              "        }\n",
              "      </script>\n",
              "    </div>\n",
              "  </div>\n",
              "  "
            ]
          },
          "metadata": {},
          "execution_count": 2
        }
      ],
      "source": [
        "df = pd.read_csv(\"https://docs.google.com/spreadsheets/d/e/2PACX-1vSBO43YMkbD_ipAijyNvlLRXtCC8yDdt1jadu92gPtL6K9F78c-hrZJPcPK0Vy_3pLQzcZScmoV31Gb/pub?gid=727890044&single=true&output=csv\")\n",
        "df.head()"
      ]
    },
    {
      "cell_type": "markdown",
      "metadata": {
        "id": "4jS9cDDsuEfG"
      },
      "source": [
        "### **Steps #2 - 3: Decide our variables and split data into training and test sets**\n",
        "---\n",
        "\n",
        "We will use `Hours` as the inputs and `Scores` as the output."
      ]
    },
    {
      "cell_type": "code",
      "source": [
        "# since we're using so many features, it's easier to just specify which ones we're not using\n",
        "inputs = df[[\"Hours\"]]\n",
        "output = df[\"Scores\"]\n",
        "X_train, X_test, y_train, y_test = train_test_split(inputs, output, test_size = 0.2, random_state = 42)"
      ],
      "metadata": {
        "id": "yYWDu9QbuEfG"
      },
      "execution_count": null,
      "outputs": []
    },
    {
      "cell_type": "markdown",
      "source": [
        "**Standardize** the data before moving on. This is generally good practice."
      ],
      "metadata": {
        "id": "i-z8TK37uEfH"
      }
    },
    {
      "cell_type": "code",
      "source": [
        "# Standardize our training and testing datasets\n",
        "mu = X_train.mean()\n",
        "sig = X_train.std()\n",
        "\n",
        "X_train = (X_train - mu)/sig\n",
        "X_test = (X_test - mu)/sig"
      ],
      "metadata": {
        "id": "bL_WuBd2uEfH"
      },
      "execution_count": null,
      "outputs": []
    },
    {
      "cell_type": "markdown",
      "metadata": {
        "id": "BbaFR8X_uEfH"
      },
      "source": [
        "### **Step #4: Import our model from sklearn**\n",
        "---"
      ]
    },
    {
      "cell_type": "code",
      "execution_count": null,
      "metadata": {
        "id": "rVVtK5-QuEfH"
      },
      "outputs": [],
      "source": [
        "from sklearn.linear_model import LinearRegression"
      ]
    },
    {
      "cell_type": "markdown",
      "metadata": {
        "id": "vM2FyLfGuEfH"
      },
      "source": [
        "### **Step \\#5: Initialize your model**\n",
        "---\n",
        "\n",
        "No hyperparameters for standard linear regression, so we just need to initialize the model."
      ]
    },
    {
      "cell_type": "code",
      "execution_count": null,
      "metadata": {
        "id": "w9479kfRuEfH"
      },
      "outputs": [],
      "source": [
        "model = LinearRegression()"
      ]
    },
    {
      "cell_type": "markdown",
      "metadata": {
        "id": "YjphJzK-uEfH"
      },
      "source": [
        "### **Step \\#6: Fit your model on the training data**\n",
        "---"
      ]
    },
    {
      "cell_type": "code",
      "execution_count": null,
      "metadata": {
        "id": "5dlof0WWuEfH",
        "colab": {
          "base_uri": "https://localhost:8080/"
        },
        "outputId": "9fada85d-a1a2-442e-c6b7-39c92173068b"
      },
      "outputs": [
        {
          "output_type": "execute_result",
          "data": {
            "text/plain": [
              "LinearRegression()"
            ]
          },
          "metadata": {},
          "execution_count": 7
        }
      ],
      "source": [
        "model.fit(X_train, y_train)"
      ]
    },
    {
      "cell_type": "markdown",
      "metadata": {
        "id": "_2evK9XTuEfH"
      },
      "source": [
        "### **Step \\#7: Test your model**\n",
        "---\n",
        "\n",
        "Since the model that linear regression gives us is a line, we can easily visualize the predictions it makes. In particular, let's compare the true values versus the predicted values using a scatter plot. We will also plot a line showing what the perfect predictions would look like."
      ]
    },
    {
      "cell_type": "code",
      "execution_count": null,
      "metadata": {
        "id": "8TAYRpFcuEfH"
      },
      "outputs": [],
      "source": [
        "predictions = model.predict(X_test)"
      ]
    },
    {
      "cell_type": "code",
      "execution_count": null,
      "metadata": {
        "id": "dQTKSNEfuEfH",
        "colab": {
          "base_uri": "https://localhost:8080/",
          "height": 513
        },
        "outputId": "15195e24-a5d0-4689-e320-a84d98f46de8"
      },
      "outputs": [
        {
          "output_type": "display_data",
          "data": {
            "text/plain": [
              "<Figure size 576x576 with 1 Axes>"
            ],
            "image/png": "[encoded data removed]"
          },
          "metadata": {
            "needs_background": "light"
          }
        }
      ],
      "source": [
        "# COMPLETE THIS CODE\n",
        "plt.figure(figsize=(8,8))\n",
        "plt.scatter(y_test , predictions)\n",
        "plt.plot([y_test.min(), y_test.max()] ,[y_test.min(), y_test.max()], label = \"Correct Prediction\" )\n",
        "\n",
        "plt.xlabel('True Score')\n",
        "plt.ylabel('Predicted Score')\n",
        "plt.title(\"Real vs Predicted Score of Student\")\n",
        "plt.legend()\n",
        "\n",
        "plt.show()"
      ]
    },
    {
      "cell_type": "markdown",
      "metadata": {
        "id": "pyGK2FvWuEfH"
      },
      "source": [
        "### **Step \\#8: Apply your model**\n",
        "---\n",
        "\n",
        "One student was out the day of the test and needs to make it up. They have to make up a lot of work, so they are hoping to study for only a short time. But, they are ready to study longer if they absolutely have to.\n",
        "\n",
        "They would like you to predict their score for each of these three possibilites:\n",
        "\n",
        "* Hours studying: 2\n",
        "* Hours studying: 5.5\n",
        "* Hours studying: 10"
      ]
    },
    {
      "cell_type": "markdown",
      "source": [
        "**1. Predict the score after studying for 2 hours**"
      ],
      "metadata": {
        "id": "9QfLVLxxuEfH"
      }
    },
    {
      "cell_type": "code",
      "execution_count": null,
      "metadata": {
        "id": "4e5IfUhfuEfI",
        "colab": {
          "base_uri": "https://localhost:8080/"
        },
        "outputId": "9fb83292-904d-487d-fc49-f09672fd833d"
      },
      "outputs": [
        {
          "output_type": "execute_result",
          "data": {
            "text/plain": [
              "array([45.66797936])"
            ]
          },
          "metadata": {},
          "execution_count": 13
        }
      ],
      "source": [
        "short_study = pd.DataFrame([[2]],\n",
        "                         columns=X_test.columns)\n",
        "\n",
        "short_study = (short_study - mu)/sig\n",
        "\n",
        "model.predict(short_study)"
      ]
    },
    {
      "cell_type": "markdown",
      "source": [
        "**2. Predict the score after studying for 5.5 hours**"
      ],
      "metadata": {
        "id": "gqQDRIRJv-0u"
      }
    },
    {
      "cell_type": "code",
      "execution_count": null,
      "metadata": {
        "id": "FrvfnhJxv-03",
        "colab": {
          "base_uri": "https://localhost:8080/"
        },
        "outputId": "0aaa282f-c34d-4b7c-c501-4eea8e3e6b21"
      },
      "outputs": [
        {
          "output_type": "execute_result",
          "data": {
            "text/plain": [
              "array([75.32577404])"
            ]
          },
          "metadata": {},
          "execution_count": 16
        }
      ],
      "source": [
        "short_study = pd.DataFrame([[5.5]],\n",
        "                         columns=X_test.columns)\n",
        "\n",
        "short_study = (short_study - mu)/sig\n",
        "\n",
        "model.predict(short_study)"
      ]
    },
    {
      "cell_type": "markdown",
      "source": [
        "**3. Predict the score after studying for 10 hours**"
      ],
      "metadata": {
        "id": "xgx_igKUwDxJ"
      }
    },
    {
      "cell_type": "code",
      "execution_count": null,
      "metadata": {
        "id": "QeQC7zNSwDxK",
        "colab": {
          "base_uri": "https://localhost:8080/"
        },
        "outputId": "ea279061-0cef-4a5a-cd4c-ab7ef5f368e2"
      },
      "outputs": [
        {
          "output_type": "execute_result",
          "data": {
            "text/plain": [
              "array([113.45722433])"
            ]
          },
          "metadata": {},
          "execution_count": 15
        }
      ],
      "source": [
        "short_study = pd.DataFrame([[10]],\n",
        "                         columns=X_test.columns)\n",
        "\n",
        "short_study = (short_study - mu)/sig\n",
        "\n",
        "model.predict(short_study)"
      ]
    },
    {
      "cell_type": "markdown",
      "source": [
        "**4. How long to get an 85?**\n",
        "\n",
        "The student looks over your predictions and decides they would like a little more information. In particular, they want to get around an 85% on the test and want to know how long to study for.\n",
        "\n",
        "There are several ways you can answer this. The first is just plugging in numbers until you get an answer. For a relatively simple model with one straightforward feature like this, that isn't so bad. But imagine there were 100 features that were all quite complicated. We need a better way!\n",
        "\n",
        "This is where inference comes in. If we can understand the general relationship between hours studying and the score, then we can answer a wider range of questions like this.\n",
        "\n",
        "<br>\n",
        "\n",
        "**In the space below, plot the Hours in the test data vs. the predictions and try to determine roughly how long this student should study to get an 85%.**"
      ],
      "metadata": {
        "id": "-ZCimVrVxG7V"
      }
    },
    {
      "cell_type": "code",
      "source": [
        "hours = X_test[\"Hours\"]\n",
        "hours = hours * sig[\"Hours\"] + mu[\"Hours\"]\n",
        "\n",
        "plt.figure(figsize=(8,8))\n",
        "plt.scatter(hours, predictions)\n",
        "\n",
        "plt.title(\"Predicted score determined by hours studies\")\n",
        "plt.xlabel(\"Hours Studied\")\n",
        "plt.ylabel(\"Predicted Score\")\n",
        "plt.show()\n",
        "\n",
        "# COMPLETE THIS CODE"
      ],
      "metadata": {
        "id": "ASU8QI0FuEfI",
        "colab": {
          "base_uri": "https://localhost:8080/",
          "height": 513
        },
        "outputId": "5b9cc35d-e732-4c29-b7ca-170e90e0b939"
      },
      "execution_count": null,
      "outputs": [
        {
          "output_type": "display_data",
          "data": {
            "text/plain": [
              "<Figure size 576x576 with 1 Axes>"
            ],
            "image/png": "[encoded data removed]"
          },
          "metadata": {
            "needs_background": "light"
          }
        }
      ]
    },
    {
      "cell_type": "markdown",
      "source": [
        "Based on this, it would seem studying for about 6.5 hours would be enough to get an 85%. Notice that there is very little test data, which makes this a bit hard to infer from or even trust. ML models work best when they can train and test with a lot of data."
      ],
      "metadata": {
        "id": "M6hMzRBmuEfI"
      }
    },
    {
      "cell_type": "markdown",
      "source": [
        "## **Part 2: Fish Market Prediction**\n",
        "---\n",
        "\n",
        "In this part, you will go through the entire process from start to finish to create a linear regression model to **predict the price** of a fish based on its dimensions. This would be a very helpful tool for fishermen to understand the earnings they could expect based on the specific fish they catch.\n",
        "\n",
        "The dataset contains the following columns:\n",
        "* `Species`: a number indicating the type of fish this is. We will not use this column, unless you do the optional part 3.\n",
        "* `Weight`: the weight (grams) of the fish\n",
        "* `Length1`: the length (cm) from the mouth of the fish to the base of its tail\n",
        "* `Length2`: the length (cm) from the mouth of the fish to the midpoint of its tail\n",
        "* `Length3`: the length (cm) from the mouth of the fish to the end of its tail\n",
        "* `Height`: the height (cm) of the fish (top to bottom)\n",
        "* `Width`: the width (cm) of the fish (side to side)\n",
        "* `Price`: the price (usd) that the fish went for in the market"
      ],
      "metadata": {
        "id": "ES0o5TlpEwnR"
      }
    },
    {
      "cell_type": "markdown",
      "metadata": {
        "id": "PhYg_lnQwTvo"
      },
      "source": [
        "### **Step #1: Load in data**\n",
        "---"
      ]
    },
    {
      "cell_type": "code",
      "execution_count": null,
      "metadata": {
        "id": "FTdv48FFwqYY",
        "colab": {
          "base_uri": "https://localhost:8080/",
          "height": 206
        },
        "outputId": "e80ab430-eeb7-4104-8027-9f32fe04a852"
      },
      "outputs": [
        {
          "output_type": "execute_result",
          "data": {
            "text/plain": [
              "   Species  Weight  Length1  Length2  Length3   Height   Width  Price\n",
              "0        0   242.0     23.2     25.4     30.0  11.5200  4.0200  64.00\n",
              "1        0   290.0     24.0     26.3     31.2  12.4800  4.3056  77.52\n",
              "2        0   340.0     23.9     26.5     31.1  12.3778  4.6961  67.60\n",
              "3        0   363.0     26.3     29.0     33.5  12.7300  4.4555  87.44\n",
              "4        0   430.0     26.5     29.0     34.0  12.4440  5.1340  90.00"
            ],
            "text/html": [
              "\n",
              "  <div id=\"df-700e785f-7aca-4c12-bb6f-d5cb39703597\">\n",
              "    <div class=\"colab-df-container\">\n",
              "      <div>\n",
              "<style scoped>\n",
              "    .dataframe tbody tr th:only-of-type {\n",
              "        vertical-align: middle;\n",
              "    }\n",
              "\n",
              "    .dataframe tbody tr th {\n",
              "        vertical-align: top;\n",
              "    }\n",
              "\n",
              "    .dataframe thead th {\n",
              "        text-align: right;\n",
              "    }\n",
              "</style>\n",
              "<table border=\"1\" class=\"dataframe\">\n",
              "  <thead>\n",
              "    <tr style=\"text-align: right;\">\n",
              "      <th></th>\n",
              "      <th>Species</th>\n",
              "      <th>Weight</th>\n",
              "      <th>Length1</th>\n",
              "      <th>Length2</th>\n",
              "      <th>Length3</th>\n",
              "      <th>Height</th>\n",
              "      <th>Width</th>\n",
              "      <th>Price</th>\n",
              "    </tr>\n",
              "  </thead>\n",
              "  <tbody>\n",
              "    <tr>\n",
              "      <th>0</th>\n",
              "      <td>0</td>\n",
              "      <td>242.0</td>\n",
              "      <td>23.2</td>\n",
              "      <td>25.4</td>\n",
              "      <td>30.0</td>\n",
              "      <td>11.5200</td>\n",
              "      <td>4.0200</td>\n",
              "      <td>64.00</td>\n",
              "    </tr>\n",
              "    <tr>\n",
              "      <th>1</th>\n",
              "      <td>0</td>\n",
              "      <td>290.0</td>\n",
              "      <td>24.0</td>\n",
              "      <td>26.3</td>\n",
              "      <td>31.2</td>\n",
              "      <td>12.4800</td>\n",
              "      <td>4.3056</td>\n",
              "      <td>77.52</td>\n",
              "    </tr>\n",
              "    <tr>\n",
              "      <th>2</th>\n",
              "      <td>0</td>\n",
              "      <td>340.0</td>\n",
              "      <td>23.9</td>\n",
              "      <td>26.5</td>\n",
              "      <td>31.1</td>\n",
              "      <td>12.3778</td>\n",
              "      <td>4.6961</td>\n",
              "      <td>67.60</td>\n",
              "    </tr>\n",
              "    <tr>\n",
              "      <th>3</th>\n",
              "      <td>0</td>\n",
              "      <td>363.0</td>\n",
              "      <td>26.3</td>\n",
              "      <td>29.0</td>\n",
              "      <td>33.5</td>\n",
              "      <td>12.7300</td>\n",
              "      <td>4.4555</td>\n",
              "      <td>87.44</td>\n",
              "    </tr>\n",
              "    <tr>\n",
              "      <th>4</th>\n",
              "      <td>0</td>\n",
              "      <td>430.0</td>\n",
              "      <td>26.5</td>\n",
              "      <td>29.0</td>\n",
              "      <td>34.0</td>\n",
              "      <td>12.4440</td>\n",
              "      <td>5.1340</td>\n",
              "      <td>90.00</td>\n",
              "    </tr>\n",
              "  </tbody>\n",
              "</table>\n",
              "</div>\n",
              "      <button class=\"colab-df-convert\" onclick=\"convertToInteractive('df-700e785f-7aca-4c12-bb6f-d5cb39703597')\"\n",
              "              title=\"Convert this dataframe to an interactive table.\"\n",
              "              style=\"display:none;\">\n",
              "        \n",
              "  <svg xmlns=\"http://www.w3.org/2000/svg\" height=\"24px\"viewBox=\"0 0 24 24\"\n",
              "       width=\"24px\">\n",
              "    <path d=\"M0 0h24v24H0V0z\" fill=\"none\"/>\n",
              "    <path d=\"M18.56 5.44l.94 2.06.94-2.06 2.06-.94-2.06-.94-.94-2.06-.94 2.06-2.06.94zm-11 1L8.5 8.5l.94-2.06 2.06-.94-2.06-.94L8.5 2.5l-.94 2.06-2.06.94zm10 10l.94 2.06.94-2.06 2.06-.94-2.06-.94-.94-2.06-.94 2.06-2.06.94z\"/><path d=\"M17.41 7.96l-1.37-1.37c-.4-.4-.92-.59-1.43-.59-.52 0-1.04.2-1.43.59L10.3 9.45l-7.72 7.72c-.78.78-.78 2.05 0 2.83L4 21.41c.39.39.9.59 1.41.59.51 0 1.02-.2 1.41-.59l7.78-7.78 2.81-2.81c.8-.78.8-2.07 0-2.86zM5.41 20L4 18.59l7.72-7.72 1.47 1.35L5.41 20z\"/>\n",
              "  </svg>\n",
              "      </button>\n",
              "      \n",
              "  <style>\n",
              "    .colab-df-container {\n",
              "      display:flex;\n",
              "      flex-wrap:wrap;\n",
              "      gap: 12px;\n",
              "    }\n",
              "\n",
              "    .colab-df-convert {\n",
              "      background-color: #E8F0FE;\n",
              "      border: none;\n",
              "      border-radius: 50%;\n",
              "      cursor: pointer;\n",
              "      display: none;\n",
              "      fill: #1967D2;\n",
              "      height: 32px;\n",
              "      padding: 0 0 0 0;\n",
              "      width: 32px;\n",
              "    }\n",
              "\n",
              "    .colab-df-convert:hover {\n",
              "      background-color: #E2EBFA;\n",
              "      box-shadow: 0px 1px 2px rgba(60, 64, 67, 0.3), 0px 1px 3px 1px rgba(60, 64, 67, 0.15);\n",
              "      fill: #174EA6;\n",
              "    }\n",
              "\n",
              "    [theme=dark] .colab-df-convert {\n",
              "      background-color: #3B4455;\n",
              "      fill: #D2E3FC;\n",
              "    }\n",
              "\n",
              "    [theme=dark] .colab-df-convert:hover {\n",
              "      background-color: #434B5C;\n",
              "      box-shadow: 0px 1px 3px 1px rgba(0, 0, 0, 0.15);\n",
              "      filter: drop-shadow(0px 1px 2px rgba(0, 0, 0, 0.3));\n",
              "      fill: #FFFFFF;\n",
              "    }\n",
              "  </style>\n",
              "\n",
              "      <script>\n",
              "        const buttonEl =\n",
              "          document.querySelector('#df-700e785f-7aca-4c12-bb6f-d5cb39703597 button.colab-df-convert');\n",
              "        buttonEl.style.display =\n",
              "          google.colab.kernel.accessAllowed ? 'block' : 'none';\n",
              "\n",
              "        async function convertToInteractive(key) {\n",
              "          const element = document.querySelector('#df-700e785f-7aca-4c12-bb6f-d5cb39703597');\n",
              "          const dataTable =\n",
              "            await google.colab.kernel.invokeFunction('convertToInteractive',\n",
              "                                                     [key], {});\n",
              "          if (!dataTable) return;\n",
              "\n",
              "          const docLinkHtml = 'Like what you see? Visit the ' +\n",
              "            '<a target=\"_blank\" href=https://colab.research.google.com/notebooks/data_table.ipynb>data table notebook</a>'\n",
              "            + ' to learn more about interactive tables.';\n",
              "          element.innerHTML = '';\n",
              "          dataTable['output_type'] = 'display_data';\n",
              "          await google.colab.output.renderOutput(dataTable, element);\n",
              "          const docLink = document.createElement('div');\n",
              "          docLink.innerHTML = docLinkHtml;\n",
              "          element.appendChild(docLink);\n",
              "        }\n",
              "      </script>\n",
              "    </div>\n",
              "  </div>\n",
              "  "
            ]
          },
          "metadata": {},
          "execution_count": 20
        }
      ],
      "source": [
        "df = pd.read_csv(\"https://docs.google.com/spreadsheets/d/e/2PACX-1vT342QqDNoUfenF4SJIj9suKMtgIleUhRxMxrVby_zLizSukNo4fypg7CdlISCo43YLpETK5tNxTKkw/pub?gid=1196956673&single=true&output=csv\")\n",
        "df.head()"
      ]
    },
    {
      "cell_type": "markdown",
      "metadata": {
        "id": "f_-Q5wVKTZlh"
      },
      "source": [
        "### **Steps #2 - 3: Decide our variables and split data into training and test sets**\n",
        "---\n",
        "\n",
        "We will drop the `Species` column since this is categorical and not going to work well with linear regression."
      ]
    },
    {
      "cell_type": "code",
      "source": [
        "# since we're using so many features, it's easier to just specify which ones we're not using\n",
        "inputs = df.drop(columns = [\"Species\", \"Price\"] )\n",
        "output = df[\"Price\"]\n",
        "X_train, X_test, y_train, y_test = train_test_split(inputs, output, test_size = 0.2, random_state = 42)"
      ],
      "metadata": {
        "id": "THXdaTdnXsFl"
      },
      "execution_count": null,
      "outputs": []
    },
    {
      "cell_type": "markdown",
      "source": [
        "**Standardize** the data before moving on. This is generally good practice."
      ],
      "metadata": {
        "id": "E2_1OPqlnLR1"
      }
    },
    {
      "cell_type": "code",
      "source": [
        "# Standardize our training and testing datasets\n",
        "mu = X_train.mean()\n",
        "sig = X_train.std()\n",
        "\n",
        "X_train = (X_train - mu)/sig\n",
        "X_test = (X_test - mu)/sig"
      ],
      "metadata": {
        "id": "CWEpWgb1nKI3"
      },
      "execution_count": null,
      "outputs": []
    },
    {
      "cell_type": "markdown",
      "metadata": {
        "id": "oCcU9G7Lzkiv"
      },
      "source": [
        "### **Step #4: Import our model from sklearn**\n",
        "---"
      ]
    },
    {
      "cell_type": "code",
      "execution_count": null,
      "metadata": {
        "id": "bqjg2BnYzkiw"
      },
      "outputs": [],
      "source": [
        "from sklearn.linear_model import LinearRegression"
      ]
    },
    {
      "cell_type": "markdown",
      "metadata": {
        "id": "gRHnKdRIz1O5"
      },
      "source": [
        "### **Step \\#5: Initialize your model**\n",
        "---\n",
        "\n",
        "No hyperparameters for standard linear regression, so we just need to initialize the model."
      ]
    },
    {
      "cell_type": "code",
      "execution_count": null,
      "metadata": {
        "id": "i9LOWeQUz1O6"
      },
      "outputs": [],
      "source": [
        "model = LinearRegression()"
      ]
    },
    {
      "cell_type": "markdown",
      "metadata": {
        "id": "qf_Ve7D-z1O6"
      },
      "source": [
        "### **Step \\#6: Fit your model on the training data**\n",
        "---"
      ]
    },
    {
      "cell_type": "code",
      "execution_count": null,
      "metadata": {
        "id": "mahcn-GNz1O6",
        "colab": {
          "base_uri": "https://localhost:8080/"
        },
        "outputId": "dbdbd392-0341-4a64-9bab-9d6e7661b74c"
      },
      "outputs": [
        {
          "output_type": "execute_result",
          "data": {
            "text/plain": [
              "LinearRegression()"
            ]
          },
          "metadata": {},
          "execution_count": 25
        }
      ],
      "source": [
        "model.fit(X_train, y_train)"
      ]
    },
    {
      "cell_type": "markdown",
      "metadata": {
        "id": "_RF0e-Vd0Hp3"
      },
      "source": [
        "### **Step \\#7: Test your model**\n",
        "---\n",
        "\n",
        "Since the model that linear regression gives us is a line, we can easily visualize the predictions it makes. In particular, let's compare the true values versus the predicted values using a scatter plot. We will also plot a line showing what the perfect predictions would look like."
      ]
    },
    {
      "cell_type": "code",
      "execution_count": null,
      "metadata": {
        "id": "GFoOCZh50Hp4"
      },
      "outputs": [],
      "source": [
        "predictions = model.predict(X_test)"
      ]
    },
    {
      "cell_type": "code",
      "execution_count": null,
      "metadata": {
        "id": "lBmc5P7Cu_E4",
        "colab": {
          "base_uri": "https://localhost:8080/",
          "height": 513
        },
        "outputId": "cdacef0d-702b-4732-dd02-ddb48b9918e8"
      },
      "outputs": [
        {
          "output_type": "display_data",
          "data": {
            "text/plain": [
              "<Figure size 576x576 with 1 Axes>"
            ],
            "image/png": "[encoded data removed]"
          },
          "metadata": {
            "needs_background": "light"
          }
        }
      ],
      "source": [
        "plt.figure(figsize=(8,8))\n",
        "plt.scatter(y_test, predictions)\n",
        "plt.plot([y_test.min(), y_test.max()] ,[y_test.min(), y_test.max()], label = \"Correct Prediction\" )\n",
        "\n",
        "plt.xlabel(\"true price\")\n",
        "plt.ylabel(\"Predicted price\")\n",
        "plt.title(\"Real vs. Predicted prices of fish\")\n",
        "plt.legend()\n",
        "\n",
        "plt.show()"
      ]
    },
    {
      "cell_type": "markdown",
      "metadata": {
        "id": "CHIlHW1b0reu"
      },
      "source": [
        "### **Step \\#8: Apply your model**\n",
        "---\n",
        "\n",
        "A fisherman comes to you with the three different fish and wants to know what they should expect to make from selling these fish. Use your model to help them out!"
      ]
    },
    {
      "cell_type": "markdown",
      "source": [
        "**1. Predict the price of a fish with the following dimensions:**\n",
        "* Weight: 264\n",
        "* Length1: 26\n",
        "* Length2: 28\n",
        "* Length3: 31\n",
        "* Height: 8.9\n",
        "* Width: 4.4"
      ],
      "metadata": {
        "id": "nFWLwNNqgDBp"
      }
    },
    {
      "cell_type": "code",
      "execution_count": null,
      "metadata": {
        "id": "Lr8MM46r0re5",
        "colab": {
          "base_uri": "https://localhost:8080/"
        },
        "outputId": "07eeaa3f-5b72-49a3-f629-9e15eafd745b"
      },
      "outputs": [
        {
          "output_type": "execute_result",
          "data": {
            "text/plain": [
              "array([63.84777933])"
            ]
          },
          "metadata": {},
          "execution_count": 29
        }
      ],
      "source": [
        "new_fish = pd.DataFrame([[264, 26, 28, 31, 8.0, 4.4]],\n",
        "                         columns=X_test.columns)\n",
        "\n",
        "new_fish = (new_fish - mu)/sig\n",
        "\n",
        "model.predict(new_fish)"
      ]
    },
    {
      "cell_type": "markdown",
      "source": [
        "**2. Predict the weight of a fish with the following dimensions:**\n",
        "* Weight: 725\n",
        "* Length1: 32.7\n",
        "* Length2: 35.5\n",
        "* Length3: 39.7\n",
        "* Height: 12.4\n",
        "* Width: 5.6"
      ],
      "metadata": {
        "id": "Tv3Jr8dbdaFQ"
      }
    },
    {
      "cell_type": "code",
      "source": [
        "new_fish = pd.DataFrame([[725, 32.7, 35.5, 39.7, 12.4, 5.6]],\n",
        "                         columns=X_test.columns)\n",
        "\n",
        "new_fish = (new_fish - mu)/sig\n",
        "\n",
        "model.predict(new_fish)"
      ],
      "metadata": {
        "id": "4jF3xxMfdbtm",
        "colab": {
          "base_uri": "https://localhost:8080/"
        },
        "outputId": "f32de400-e458-4711-cac0-d4a5860e27ee"
      },
      "execution_count": null,
      "outputs": [
        {
          "output_type": "execute_result",
          "data": {
            "text/plain": [
              "array([127.32634877])"
            ]
          },
          "metadata": {},
          "execution_count": 30
        }
      ]
    },
    {
      "cell_type": "markdown",
      "source": [
        "**3. Predict the weight of a fish with the following dimensions:**\n",
        "* Weight: 120\n",
        "* Length1: 19.1\n",
        "* Length2: 21\n",
        "* Length3: 23.2\n",
        "* Height: 5.9\n",
        "* Width: 3.4"
      ],
      "metadata": {
        "id": "f1TzzAtcdcAS"
      }
    },
    {
      "cell_type": "code",
      "source": [
        "new_fish = pd.DataFrame([[120, 19.1, 21 , 23.2, 5.9, 3.4]],\n",
        "                         columns=X_test.columns)\n",
        "\n",
        "new_fish = (new_fish - mu)/sig\n",
        "\n",
        "model.predict(new_fish)"
      ],
      "metadata": {
        "id": "stE15qupdcyg",
        "colab": {
          "base_uri": "https://localhost:8080/"
        },
        "outputId": "a75b0563-8593-4394-e717-bc723801c20e"
      },
      "execution_count": null,
      "outputs": [
        {
          "output_type": "execute_result",
          "data": {
            "text/plain": [
              "array([30.4931516])"
            ]
          },
          "metadata": {},
          "execution_count": 31
        }
      ]
    },
    {
      "cell_type": "markdown",
      "source": [
        "**4. Infer the relationship between Weight and Price**\n",
        "\n",
        "Let's plot the Weight (the `Weight` column) from the test data (`X_test`) and see what our model predicted for these values. This way, we can get a sense of the relationship that our model claims to exist between this particular variable and the price of the fish."
      ],
      "metadata": {
        "id": "23gSjC7IgUje"
      }
    },
    {
      "cell_type": "code",
      "source": [
        "weight = X_test[\"Weight\"]\n",
        "weight = weight * sig[\"Weight\"] + mu[\"Weight\"]\n",
        "\n",
        "plt.figure(figsize=(8,8))\n",
        "plt.scatter(weight, predictions)\n",
        "plt.title('Predicted price vs. weight')\n",
        "plt.xlabel(\"Weight\")\n",
        "plt.ylabel(\"Predicted price\")\n",
        "\n",
        "plt.show()\n",
        "# COMPLETE THIS CODE"
      ],
      "metadata": {
        "id": "K2zGYrY2fTym",
        "colab": {
          "base_uri": "https://localhost:8080/",
          "height": 513
        },
        "outputId": "fab3c9e4-7d8e-40e4-dbc2-13ad43f71a5f"
      },
      "execution_count": null,
      "outputs": [
        {
          "output_type": "display_data",
          "data": {
            "text/plain": [
              "<Figure size 576x576 with 1 Axes>"
            ],
            "image/png": "[encoded data removed]"
          },
          "metadata": {
            "needs_background": "light"
          }
        }
      ]
    },
    {
      "cell_type": "markdown",
      "source": [
        "There is a clearly strong relationship learned by this linear regression model. As weight goes up, so does price. This makes sense after all!"
      ],
      "metadata": {
        "id": "RETwtzTihUdf"
      }
    },
    {
      "cell_type": "markdown",
      "source": [
        "**5. Infer the relationship between Height and Price**\n",
        "\n",
        "Let's plot the Height (the `Height` column) from the test data (`X_test`) and see what our model predicted for these values. This way, we can get a sense of the relationship that our model claims to exist between this particular variable and the price of the fish."
      ],
      "metadata": {
        "id": "blfyiQE-g_uB"
      }
    },
    {
      "cell_type": "code",
      "source": [
        "height = X_test[\"Height\"]\n",
        "height = height * sig[\"Height\"] + mu[\"Height\"]\n",
        "\n",
        "plt.figure(figsize=(8,8))\n",
        "plt.scatter(height, predictions)\n",
        "plt.title('Predicted price vs. height')\n",
        "plt.xlabel(\"height\")\n",
        "plt.ylabel(\"Predicted price\")\n",
        "\n",
        "# COMPLETE THIS CODE"
      ],
      "metadata": {
        "id": "UB8VCLl0fupE",
        "colab": {
          "base_uri": "https://localhost:8080/",
          "height": 530
        },
        "outputId": "b54681a0-2555-4d8c-eeff-626b6aa37763"
      },
      "execution_count": null,
      "outputs": [
        {
          "output_type": "execute_result",
          "data": {
            "text/plain": [
              "Text(0, 0.5, 'Predicted price')"
            ]
          },
          "metadata": {},
          "execution_count": 34
        },
        {
          "output_type": "display_data",
          "data": {
            "text/plain": [
              "<Figure size 576x576 with 1 Axes>"
            ],
            "image/png": "[encoded data removed]"
          },
          "metadata": {
            "needs_background": "light"
          }
        }
      ]
    },
    {
      "cell_type": "markdown",
      "source": [
        "There is also a similar trend here unsurprisingly, but notice that there are more outliers."
      ],
      "metadata": {
        "id": "a8wGNrG8lA2n"
      }
    },
    {
      "cell_type": "markdown",
      "source": [
        "## **[OPTIONAL] Part 3: Classify Fish using KNN**\n",
        "---\n",
        "\n",
        "If you would like to practice your KNN skills, try using this very same data to classify the species of fish based on the other features."
      ],
      "metadata": {
        "id": "iRzinvv6WwLI"
      }
    },
    {
      "cell_type": "markdown",
      "source": [
        "### **Exercise #1: Select the 2 best features**"
      ],
      "metadata": {
        "id": "O5kdxJsNY1El"
      }
    },
    {
      "cell_type": "code",
      "source": [],
      "metadata": {
        "id": "qCOkXmzFXVAv"
      },
      "execution_count": null,
      "outputs": []
    },
    {
      "cell_type": "markdown",
      "source": [
        "### **Exercise #2: Split data into training and test data**"
      ],
      "metadata": {
        "id": "wXvseH7JZHT_"
      }
    },
    {
      "cell_type": "code",
      "source": [],
      "metadata": {
        "id": "TSd-TmBCXUJb"
      },
      "execution_count": null,
      "outputs": []
    },
    {
      "cell_type": "markdown",
      "source": [
        "**Standardize** the data before moving on. This is generally good practice."
      ],
      "metadata": {
        "id": "ddbGWvL3q77x"
      }
    },
    {
      "cell_type": "code",
      "source": [],
      "metadata": {
        "id": "ScIKLbFNq77x"
      },
      "execution_count": null,
      "outputs": []
    },
    {
      "cell_type": "markdown",
      "source": [
        "### **Exercise #3: Train a KNN Classifier for several K values and pick the best one**"
      ],
      "metadata": {
        "id": "PxrEoblVZLqx"
      }
    },
    {
      "cell_type": "code",
      "source": [
        "from sklearn.neighbors import KNeighborsClassifier\n",
        "from sklearn.metrics import accuracy_score, plot_confusion_matrix"
      ],
      "metadata": {
        "id": "Cs84lKfJZn8p"
      },
      "execution_count": null,
      "outputs": []
    },
    {
      "cell_type": "markdown",
      "source": [
        "#### **1. Train for K = 1**\n",
        "\n",
        "Train a model with K = 1 and look at its accuracy and confusion matrix."
      ],
      "metadata": {
        "id": "gLBYEG0fZg5w"
      }
    },
    {
      "cell_type": "code",
      "source": [],
      "metadata": {
        "id": "8yxyYIPWXHj7"
      },
      "execution_count": null,
      "outputs": []
    },
    {
      "cell_type": "code",
      "source": [],
      "metadata": {
        "id": "saSOh43-YdMW"
      },
      "execution_count": null,
      "outputs": []
    },
    {
      "cell_type": "code",
      "source": [],
      "metadata": {
        "id": "cWdU1vpzYjjx"
      },
      "execution_count": null,
      "outputs": []
    },
    {
      "cell_type": "markdown",
      "source": [
        "#### **2. Train for K = 100**\n",
        "\n",
        "Train a model with K = 100 and look at its accuracy and confusion matrix."
      ],
      "metadata": {
        "id": "-xO6XQQwZ07e"
      }
    },
    {
      "cell_type": "code",
      "source": [],
      "metadata": {
        "id": "vLtBRQuEZ07e"
      },
      "execution_count": null,
      "outputs": []
    },
    {
      "cell_type": "code",
      "source": [],
      "metadata": {
        "id": "JYIh7OoqZ07e"
      },
      "execution_count": null,
      "outputs": []
    },
    {
      "cell_type": "code",
      "source": [],
      "metadata": {
        "id": "N8ZzAUmnZ07e"
      },
      "execution_count": null,
      "outputs": []
    },
    {
      "cell_type": "markdown",
      "source": [
        "#### **3. Train for your choice of K**\n",
        "\n",
        "Train a model with a K of your choice, specifically using some of the rules of thumb we've seen for choosing this hyperparameter, and look at its accuracy and confusion matrix."
      ],
      "metadata": {
        "id": "A6gPPfeQZ9JR"
      }
    },
    {
      "cell_type": "code",
      "source": [],
      "metadata": {
        "id": "Hv2BHsIzZ9JS"
      },
      "execution_count": null,
      "outputs": []
    },
    {
      "cell_type": "code",
      "source": [],
      "metadata": {
        "id": "3tYqJz4kZ9JT"
      },
      "execution_count": null,
      "outputs": []
    },
    {
      "cell_type": "code",
      "source": [],
      "metadata": {
        "id": "HGsCYdFsZ9JT"
      },
      "execution_count": null,
      "outputs": []
    },
    {
      "cell_type": "markdown",
      "source": [
        "---\n",
        "\n",
        "# © 2022 The Coding School, All rights reserved"
      ],
      "metadata": {
        "id": "71FCyXqnrgJJ"
      }
    }
  ]
}